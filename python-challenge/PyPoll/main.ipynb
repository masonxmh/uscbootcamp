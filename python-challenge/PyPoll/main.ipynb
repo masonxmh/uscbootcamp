{
 "cells": [
  {
   "cell_type": "code",
   "execution_count": 5,
   "metadata": {},
   "outputs": [
    {
     "name": "stdout",
     "output_type": "stream",
     "text": [
      "Election Results\n",
      "--------------------------\n",
      "Total Votes: 3521001\n",
      "--------------------------\n",
      "Khan: 63.000% (2218231)\n",
      "Correy: 20.000% (704200)\n",
      "Li: 14.000% (492940)\n",
      "O'Tooley: 3.000% (105630)\n",
      "--------------------------\n",
      "Winner: Khan\n",
      "--------------------------\n"
     ]
    }
   ],
   "source": [
    "import os\n",
    "import csv\n",
    "\n",
    "election_data_csv = os.path.join(\"Resources\",\"election_data.csv\")\n",
    "\n",
    "#open&read csv\n",
    "\n",
    "with open(election_data_csv, newline=\"\") as csvfile:\n",
    "    csv_reader=csv.reader(csvfile, delimiter=',')\n",
    "    #read the header row first\n",
    "    next (csv_reader)\n",
    "   \n",
    "    #Define variables\n",
    "    vote_dict={}\n",
    "    max_vote=int()\n",
    "    winner=str()\n",
    "    vote_percent=float()\n",
    "    \n",
    "    #read through each row of data after the header\n",
    "    for row in csv_reader:\n",
    "        if row[2] not in vote_dict.keys():\n",
    "            vote_dict[row[2]]=0\n",
    "        vote_dict[row[2]]+=1\n",
    "    # find total votes\n",
    "    total_votes=sum(vote_dict.values())\n",
    "\n",
    "    print(\"Election Results\\n--------------------------\\n\" +\n",
    "    \"Total Votes: \"+ str(total_votes)+\n",
    "    \"\\n--------------------------\")\n",
    "   \n",
    "    #print votes & find winner\n",
    "    max_vote = max(vote_dict.values())\n",
    "    for (key,value) in vote_dict.items():\n",
    "        # calculate vote percentage\n",
    "        vote_percent=value/total_votes\n",
    "        #find winner\n",
    "        if value==max_vote:\n",
    "            winner=key\n",
    "        print (key+\": \"+str(\"{:.3%}\".format(vote_percent))+\" \"+str(\"({})\".format(value)))\n",
    "    print (\"--------------------------\")\n",
    "    print (\"Winner: \"+ winner)\n",
    "    print (\"--------------------------\")    \n",
    " # print to file       \n",
    "output_path=os.path.join(\"PyPollResult.txt\")\n",
    "with open(output_path, 'w', newline='') as txtfile:\n",
    "    txtfile.write(\"Election Results\\n--------------------------\\n\")\n",
    "    txtfile.write(\"Total Votes: \"+ str(total_votes))\n",
    "    txtfile.write(\"\\n--------------------------\\n\")\n",
    "    for (key,value) in vote_dict.items():\n",
    "        vote_percent=value/total_votes\n",
    "        if value==max_vote:\n",
    "            winner=key\n",
    "        txtfile.write(key+\": \"+str(\"{:.3%}\".format(vote_percent))+\" \"+str(\"({})\".format(value))+\"\\n\")\n",
    "    txtfile.write(\"\\n--------------------------\")\n",
    "    txtfile.write(\"\\nWinner: \"+  winner)\n",
    "    txtfile.write(\"\\n--------------------------\")\n",
    "\n",
    "\n"
   ]
  },
  {
   "cell_type": "code",
   "execution_count": null,
   "metadata": {},
   "outputs": [],
   "source": []
  },
  {
   "cell_type": "code",
   "execution_count": null,
   "metadata": {},
   "outputs": [],
   "source": []
  },
  {
   "cell_type": "code",
   "execution_count": null,
   "metadata": {},
   "outputs": [],
   "source": []
  }
 ],
 "metadata": {
  "kernelspec": {
   "display_name": "Python 3",
   "language": "python",
   "name": "python3"
  },
  "language_info": {
   "codemirror_mode": {
    "name": "ipython",
    "version": 3
   },
   "file_extension": ".py",
   "mimetype": "text/x-python",
   "name": "python",
   "nbconvert_exporter": "python",
   "pygments_lexer": "ipython3",
   "version": "3.7.3"
  }
 },
 "nbformat": 4,
 "nbformat_minor": 4
}
