{
 "cells": [
  {
   "cell_type": "code",
   "execution_count": 1,
   "metadata": {},
   "outputs": [
    {
     "name": "stdout",
     "output_type": "stream",
     "text": [
      "Financial Analysis\n",
      "------------------------\n",
      "Total Months: 86\n",
      "Total: $38382578\n",
      "Average Change: $-2315.12\n",
      "Greatest Increase in Profits:Feb-2012 ($1926159)\n",
      "Greatest Decrease in Profits:Sep-2013 ($-2196167)\n"
     ]
    }
   ],
   "source": [
    "import os\n",
    "import csv\n",
    "\n",
    "budget_data_csv = os.path.join(\"Resources\",\"budget_data.csv\")\n",
    "#open&read csv\n",
    "\n",
    "with open(budget_data_csv, newline=\"\") as csvfile:\n",
    "    csv_reader = csv.reader(csvfile, delimiter=\",\")\n",
    "    #read the header row first \n",
    "    next (csv_reader)\n",
    "    #read through each row of data after the header\n",
    "    \n",
    "    date_list =[]\n",
    "    profit_losses_list =[]\n",
    "    diff_list=[]\n",
    "    \n",
    "    \n",
    "    \n",
    "    for row in csv_reader:\n",
    "        date_list.append(row[0])\n",
    "        total_month = len(date_list)\n",
    "               \n",
    "        profit_losses_list.append(int(row[1]))\n",
    "        net_total = sum(profit_losses_list)\n",
    "        \n",
    "        \n",
    "        \n",
    "    for i in range(len(profit_losses_list)-1):  \n",
    "        diff_list.append(profit_losses_list[i+1]-profit_losses_list[i])\n",
    "    average=sum(diff_list)/len(diff_list)\n",
    "    round_average=round(average,2)\n",
    "    \n",
    "    \n",
    "    profitdiff_max=max(diff_list)\n",
    "    max_date = date_list[diff_list.index(profitdiff_max)+1]\n",
    "    profitdiff_min=min(diff_list)\n",
    "    min_date = date_list[diff_list.index(profitdiff_min)+1]\n",
    "    \n",
    "    \n",
    "    \n",
    "    P=(\"Financial Analysis\\n------------------------\\n\" +\n",
    "           \"Total Months: \"+ str(total_month)+\n",
    "           \"\\nTotal: $\"+str(net_total)+\n",
    "           \"\\nAverage Change: $\" + str(round_average)+\n",
    "           \"\\nGreatest Increase in Profits:\"+max_date+\n",
    "           \" ($\"+str(profitdiff_max)+\")\"+\n",
    "           \"\\nGreatest Decrease in Profits:\"+min_date+\" ($\"+\n",
    "           str(profitdiff_min)+\")\")\n",
    "    print(P)\n",
    "\n",
    "\n",
    "output_path=os.path.join(\"financial_analysis.txt\")\n",
    "with open(output_path, 'w', newline='') as txtfile:\n",
    "    txtfile.write(\"Financial Analysis\\n------------------------\\n\")\n",
    "    txtfile.write(\"Total Months: \"+ str(total_month))\n",
    "    txtfile.write(\"\\nTotal: $\"+str(net_total))\n",
    "    txtfile.write(\"\\nAverage Change: $\" + str(round_average)+\"\\nGreatest Increase in Profits:\"+max_date+\" ($\"+str(profitdiff_max)+\")\")\n",
    "    txtfile.write(\"\\nGreatest Decrease in Profits:\"+min_date+\" ($\"+\n",
    "           str(profitdiff_min)+\")\")"
   ]
  },
  {
   "cell_type": "raw",
   "metadata": {},
   "source": []
  },
  {
   "cell_type": "code",
   "execution_count": null,
   "metadata": {},
   "outputs": [],
   "source": []
  },
  {
   "cell_type": "code",
   "execution_count": null,
   "metadata": {},
   "outputs": [],
   "source": []
  },
  {
   "cell_type": "code",
   "execution_count": null,
   "metadata": {},
   "outputs": [],
   "source": []
  },
  {
   "cell_type": "code",
   "execution_count": null,
   "metadata": {},
   "outputs": [],
   "source": []
  },
  {
   "cell_type": "code",
   "execution_count": null,
   "metadata": {},
   "outputs": [],
   "source": []
  }
 ],
 "metadata": {
  "kernelspec": {
   "display_name": "Python 3",
   "language": "python",
   "name": "python3"
  },
  "language_info": {
   "codemirror_mode": {
    "name": "ipython",
    "version": 3
   },
   "file_extension": ".py",
   "mimetype": "text/x-python",
   "name": "python",
   "nbconvert_exporter": "python",
   "pygments_lexer": "ipython3",
   "version": "3.7.3"
  }
 },
 "nbformat": 4,
 "nbformat_minor": 4
}
