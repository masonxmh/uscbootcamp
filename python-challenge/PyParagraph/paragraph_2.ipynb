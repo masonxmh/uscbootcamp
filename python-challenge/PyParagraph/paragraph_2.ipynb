{
 "cells": [
  {
   "cell_type": "code",
   "execution_count": 1,
   "metadata": {},
   "outputs": [
    {
     "name": "stdout",
     "output_type": "stream",
     "text": [
      "Paragraph 1 Analysis \n",
      "\n",
      "------------------------------\n",
      "\n",
      "Approximate Word Count: 285\n",
      "\n",
      "Approximate Sentence Count: 2\n",
      "\n",
      "Average Letter Count: 5.2\n",
      "\n",
      "Average Sentence Length: 142.5\n",
      "\n"
     ]
    }
   ],
   "source": [
    "import os\n",
    "import re\n",
    "#import string\n",
    "paragraph_1_txt = os.path.join(\"raw_data\",\"paragraph_2.txt\")\n",
    "#open&read txt\n",
    "\n",
    "num_letter =int()\n",
    "num_words =int()\n",
    "num_sentence =int()\n",
    "\n",
    "with open(paragraph_1_txt) as txtfile:\n",
    "    txt=txtfile.read()\n",
    "    txt_reader = txt.split()\n",
    "# total words count    \n",
    "    num_words=len(txt_reader)\n",
    "# total letter count\n",
    "    for i in range(len(txt_reader)):\n",
    "        num_letter+=len(txt_reader[i])\n",
    "ave_letter_count = round(num_letter/num_words,1)       \n",
    "\n",
    "# total sentence count\n",
    "sentence = re.split(\"(?<=[.!?]) +\", txt)\n",
    "num_sentence = len(sentence)\n",
    "# ave sentence length\n",
    "ave_sentence_len = round(num_words/num_sentence,1)\n",
    "        \n",
    "print(\"Paragraph 1 Analysis \\n\")\n",
    "print(\"------------------------------\\n\")\n",
    "print(\"Approximate Word Count: \" + str(num_words) + \"\\n\")\n",
    "print(\"Approximate Sentence Count: \" + str(num_sentence)+ \"\\n\")\n",
    "print(\"Average Letter Count: \" + str(ave_letter_count) + \"\\n\")\n",
    "print(\"Average Sentence Length: \" + str(ave_sentence_len) + \"\\n\")\n",
    "\n",
    "#print to text\n",
    "output_path=os.path.join(\"paragraph_2_output.txt\")\n",
    "with open(output_path, \"w\", newline=\"\") as txtfile:\n",
    "\n",
    "    txtfile.write(\"Example Analysis \\n\")\n",
    "    txtfile.write(\"--------------------------\\n\")\n",
    "    txtfile.write(\"Approximate Word Count: \" + str(num_words) + \"\\n\")\n",
    "    txtfile.write(\"Approximate Sentence Count: \" + str(num_sentence)+ \"\\n\")\n",
    "    txtfile.write(\"Average Letter Count: \" + str(ave_letter_count) + \"\\n\")\n",
    "    txtfile.write(\"Average Sentence Length: \" + str(ave_sentence_len) + \"\\n\")\n",
    "    txtfile.write(\"---------------------------\\n\")"
   ]
  },
  {
   "cell_type": "code",
   "execution_count": null,
   "metadata": {},
   "outputs": [],
   "source": []
  }
 ],
 "metadata": {
  "kernelspec": {
   "display_name": "Python 3",
   "language": "python",
   "name": "python3"
  },
  "language_info": {
   "codemirror_mode": {
    "name": "ipython",
    "version": 3
   },
   "file_extension": ".py",
   "mimetype": "text/x-python",
   "name": "python",
   "nbconvert_exporter": "python",
   "pygments_lexer": "ipython3",
   "version": "3.7.3"
  }
 },
 "nbformat": 4,
 "nbformat_minor": 4
}
