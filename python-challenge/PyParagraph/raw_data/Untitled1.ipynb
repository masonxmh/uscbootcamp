{
 "cells": [
  {
   "cell_type": "code",
   "execution_count": 1,
   "metadata": {},
   "outputs": [
    {
     "ename": "TypeError",
     "evalue": "an integer is required (got type str)",
     "output_type": "error",
     "traceback": [
      "\u001b[1;31m---------------------------------------------------------------------------\u001b[0m",
      "\u001b[1;31mTypeError\u001b[0m                                 Traceback (most recent call last)",
      "\u001b[1;32m<ipython-input-1-16ae3a815abf>\u001b[0m in \u001b[0;36m<module>\u001b[1;34m\u001b[0m\n\u001b[0;32m      2\u001b[0m \u001b[1;32mimport\u001b[0m \u001b[0mre\u001b[0m\u001b[1;33m\u001b[0m\u001b[1;33m\u001b[0m\u001b[0m\n\u001b[0;32m      3\u001b[0m \u001b[1;33m\u001b[0m\u001b[0m\n\u001b[1;32m----> 4\u001b[1;33m \u001b[1;32mwith\u001b[0m \u001b[0mopen\u001b[0m\u001b[1;33m(\u001b[0m\u001b[1;34m\"raw_data\"\u001b[0m\u001b[1;33m,\u001b[0m\u001b[1;34m\"example.txt\"\u001b[0m\u001b[1;33m,\u001b[0m\u001b[1;34m\"r\"\u001b[0m\u001b[1;33m)\u001b[0m \u001b[1;32mas\u001b[0m \u001b[0mtxtfile\u001b[0m\u001b[1;33m:\u001b[0m\u001b[1;33m\u001b[0m\u001b[1;33m\u001b[0m\u001b[0m\n\u001b[0m\u001b[0;32m      5\u001b[0m     \u001b[0mlines\u001b[0m \u001b[1;33m=\u001b[0m \u001b[0mtxtfile\u001b[0m\u001b[1;33m.\u001b[0m\u001b[0mread\u001b[0m\u001b[1;33m(\u001b[0m\u001b[1;33m)\u001b[0m\u001b[1;33m\u001b[0m\u001b[1;33m\u001b[0m\u001b[0m\n\u001b[0;32m      6\u001b[0m     \u001b[0mprint\u001b[0m\u001b[1;33m(\u001b[0m\u001b[0mlines\u001b[0m\u001b[1;33m)\u001b[0m\u001b[1;33m\u001b[0m\u001b[1;33m\u001b[0m\u001b[0m\n",
      "\u001b[1;31mTypeError\u001b[0m: an integer is required (got type str)"
     ]
    }
   ],
   "source": [
    "import csv\n",
    "import re\n",
    "\n",
    "with open(\"raw_data\",\"example.txt\",\"r\") as txtfile:\n",
    "    lines = txtfile.read()\n",
    "    print(lines)\n",
    "    \n",
    "    #Count number of words in the paragraph\n",
    "    words = lines.split(\" \") \n",
    "    num_words = len(words)\n",
    "    \n",
    "    #Calculate the average letter count per word\n",
    "    letter_count = []\n",
    "    for i in range(len(words)):\n",
    "        letter_count.append(len(words[i]))\n",
    "    ave_letter_count = sum(letter_count)/len(letter_count)\n",
    "    ave_letter_count = round(ave_letter_count,1)\n",
    "    \n",
    "    #Approximate sentence count\n",
    "    sentence = re.split(\"(?<=[.!?]) +\", lines)\n",
    "    num_sen = len(sentence)\n",
    "    \n",
    "    word_count = []\n",
    "    #Average sentence length\n",
    "    for j in range(len(sentence)):\n",
    "        word_in_sentence = sentence[j].split(\" \")\n",
    "        word_count.append(len(word_in_sentence))\n",
    "    ave_sen_len = sum(word_count)/len(word_count)\n",
    "        \n",
    "with open(\"/Users/peirangxu/Desktop/Python-challenge/Pyparagraph/paragraph_1_Analysis.txt\",\"w\") as text:\n",
    "    text.write(\"Paragraph 1 Analysis \\n\")\n",
    "    text.write(\"--------------------------\\n\")\n",
    "    text.write(\"Approximate Word Count: \" + str(num_words) + \"\\n\")\n",
    "    text.write(\"Approximate Sentence Count: \" + str(num_sen)+ \"\\n\")\n",
    "    text.write(\"Average Letter Count: \" + str(ave_letter_count) + \"\\n\")\n",
    "    text.write(\"Average Sentence Length: \" + str(ave_sen_len) + \"\\n\")\n",
    "    text.write(\"---------------------------\\n\")"
   ]
  },
  {
   "cell_type": "code",
   "execution_count": null,
   "metadata": {},
   "outputs": [],
   "source": []
  }
 ],
 "metadata": {
  "kernelspec": {
   "display_name": "Python 3",
   "language": "python",
   "name": "python3"
  },
  "language_info": {
   "codemirror_mode": {
    "name": "ipython",
    "version": 3
   },
   "file_extension": ".py",
   "mimetype": "text/x-python",
   "name": "python",
   "nbconvert_exporter": "python",
   "pygments_lexer": "ipython3",
   "version": "3.7.3"
  }
 },
 "nbformat": 4,
 "nbformat_minor": 4
}
